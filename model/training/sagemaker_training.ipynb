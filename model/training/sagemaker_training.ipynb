{
 "cells": [
  {
   "cell_type": "markdown",
   "id": "38fb518c-8b7a-4332-aa1d-64ffca5cd13d",
   "metadata": {},
   "source": [
    "# Run Training in SageMaker\n",
    "- References:\n",
    "    - mnist.py example: [python file](https://github.com/aws/amazon-sagemaker-examples/blob/default/%20%20%20%20%20%20build_and_train_models/sm-hyperparameter_tuning_pytorch/mnist.py)\n",
    "    - training and tuner example: [notebook](https://github.com/aws/amazon-sagemaker-examples/blob/default/%20%20%20%20%20%20build_and_train_models/sm-hyperparameter_tuning_pytorch/sm-hyperparameter_tuning_pytorch.ipynb)\n",
    "    - Training Toolkit: [sagemaker-training-toolkit](https://github.com/aws/sagemaker-training-toolkit)\n",
    "    - Python SDK: [link](https://sagemaker.readthedocs.io/en/stable/frameworks/pytorch/using_pytorch.html)\n",
    "    - Logging metrics: [link](https://docs.aws.amazon.com/sagemaker/latest/dg/define-train-metrics.html)"
   ]
  },
  {
   "cell_type": "code",
   "execution_count": 1,
   "id": "f78feb5e-952b-49e6-a8ae-437f268c1a69",
   "metadata": {},
   "outputs": [
    {
     "name": "stdout",
     "output_type": "stream",
     "text": [
      "sagemaker.config INFO - Not applying SDK defaults from location: /etc/xdg/sagemaker/config.yaml\n",
      "sagemaker.config INFO - Not applying SDK defaults from location: /home/sagemaker-user/.config/sagemaker/config.yaml\n"
     ]
    }
   ],
   "source": [
    "import sagemaker\n",
    "from sagemaker.pytorch import PyTorch\n",
    "from sagemaker.tuner import CategoricalParameter, ContinuousParameter, HyperparameterTuner\n",
    "\n",
    "sagemaker_session = sagemaker.Session()\n",
    "region = sagemaker_session.boto_region_name\n",
    "\n",
    "bucket = 'neurobeacon'\n",
    "prefix = 'dev/jason/data/base_model'\n",
    "role = sagemaker.get_execution_role()"
   ]
  },
  {
   "cell_type": "markdown",
   "id": "f8004a09-2659-43f3-8c5e-3d797683ed31",
   "metadata": {},
   "source": [
    "## Single Training Job"
   ]
  },
  {
   "cell_type": "code",
   "execution_count": 2,
   "id": "598c69bf-1dd4-4cbc-9c61-697088ed7cc4",
   "metadata": {},
   "outputs": [],
   "source": [
    "estimator = PyTorch(\n",
    "    base_job_name='full-model-mini-jason',\n",
    "    entry_point='model.py',\n",
    "    role=role,\n",
    "    py_version='py38',\n",
    "    framework_version='1.11.0',\n",
    "    instance_type='ml.m5.4xlarge',\n",
    "    instance_count=1,\n",
    "    metric_definitions=[\n",
    "        {'Name': 'train:error', 'Regex': r'Train Loss: ([0-9]+\\.[0-9]+)'},\n",
    "        {'Name': 'test:error', 'Regex': r'Test Loss: ([0-9]+\\.[0-9]+)'}\n",
    "    ]\n",
    ")"
   ]
  },
  {
   "cell_type": "code",
   "execution_count": 3,
   "id": "0684e6da-f6eb-4a66-b8bf-0fe2371652c4",
   "metadata": {},
   "outputs": [
    {
     "name": "stdout",
     "output_type": "stream",
     "text": [
      "train_dir: s3://neurobeacon/tst/data/mini_dataset/train\n",
      "test_dir: s3://neurobeacon/tst/data/mini_dataset/test\n"
     ]
    }
   ],
   "source": [
    "data_dir = 's3://neurobeacon/tst/data'\n",
    "data_folder = 'mini_dataset'\n",
    "\n",
    "train_dir = f'{data_dir}/{data_folder}/train'\n",
    "test_dir = f'{data_dir}/{data_folder}/test'\n",
    "\n",
    "print('train_dir:', train_dir)\n",
    "print('test_dir:', test_dir)"
   ]
  },
  {
   "cell_type": "markdown",
   "id": "1c946cd4-bc25-440f-9d8e-ba28175fc860",
   "metadata": {},
   "source": [
    "You can close the notebook once the training job is started. After training is complete, you can find training summary in Sagemaker.\n",
    "- Open Sagemaker Studio > Jobs > Training > select your training job\n",
    "    - Performance: only shows last logged metric\n",
    "    - CloudWatch / Sagemaker AI Monitor*: training/validation curves to be configured"
   ]
  },
  {
   "cell_type": "code",
   "execution_count": 4,
   "id": "2a011562-2322-4a77-8c93-a9dfb1b2a239",
   "metadata": {},
   "outputs": [
    {
     "name": "stderr",
     "output_type": "stream",
     "text": [
      "INFO:sagemaker.image_uris:image_uri is not presented, retrieving image_uri based on instance_type, framework etc.\n",
      "INFO:sagemaker:Creating training-job with name: full-model-mini-jason-2025-02-28-17-54-16-009\n"
     ]
    },
    {
     "name": "stdout",
     "output_type": "stream",
     "text": [
      "2025-02-28 17:54:18 Starting - Starting the training job...\n",
      "2025-02-28 17:54:32 Starting - Preparing the instances for training...\n",
      "2025-02-28 17:55:08 Downloading - Downloading the training image.........\n",
      "2025-02-28 17:56:29 Training - Training image download completed. Training in progress..\u001b[34mbash: cannot set terminal process group (-1): Inappropriate ioctl for device\u001b[0m\n",
      "\u001b[34mbash: no job control in this shell\u001b[0m\n",
      "\u001b[34m2025-02-28 12:56:47,809 sagemaker-training-toolkit INFO     Imported framework sagemaker_pytorch_container.training\u001b[0m\n",
      "\u001b[34m2025-02-28 12:56:47,811 sagemaker-training-toolkit INFO     No GPUs detected (normal if no gpus installed)\u001b[0m\n",
      "\u001b[34m2025-02-28 12:56:47,814 sagemaker-training-toolkit INFO     No Neurons detected (normal if no neurons installed)\u001b[0m\n",
      "\u001b[34m2025-02-28 12:56:47,825 sagemaker_pytorch_container.training INFO     Block until all host DNS lookups succeed.\u001b[0m\n",
      "\u001b[34m2025-02-28 12:56:47,827 sagemaker_pytorch_container.training INFO     Invoking user training script.\u001b[0m\n",
      "\u001b[34m2025-02-28 12:56:48,074 sagemaker-training-toolkit INFO     No GPUs detected (normal if no gpus installed)\u001b[0m\n",
      "\u001b[34m2025-02-28 12:56:48,077 sagemaker-training-toolkit INFO     No Neurons detected (normal if no neurons installed)\u001b[0m\n",
      "\u001b[34m2025-02-28 12:56:48,092 sagemaker-training-toolkit INFO     No GPUs detected (normal if no gpus installed)\u001b[0m\n",
      "\u001b[34m2025-02-28 12:56:48,094 sagemaker-training-toolkit INFO     No Neurons detected (normal if no neurons installed)\u001b[0m\n",
      "\u001b[34m2025-02-28 12:56:48,110 sagemaker-training-toolkit INFO     No GPUs detected (normal if no gpus installed)\u001b[0m\n",
      "\u001b[34m2025-02-28 12:56:48,113 sagemaker-training-toolkit INFO     No Neurons detected (normal if no neurons installed)\u001b[0m\n",
      "\u001b[34m2025-02-28 12:56:48,125 sagemaker-training-toolkit INFO     Invoking user script\u001b[0m\n",
      "\u001b[34mTraining Env:\u001b[0m\n",
      "\u001b[34m{\n",
      "    \"additional_framework_parameters\": {},\n",
      "    \"channel_input_dirs\": {\n",
      "        \"test\": \"/opt/ml/input/data/test\",\n",
      "        \"train\": \"/opt/ml/input/data/train\"\n",
      "    },\n",
      "    \"current_host\": \"algo-1\",\n",
      "    \"current_instance_group\": \"homogeneousCluster\",\n",
      "    \"current_instance_group_hosts\": [\n",
      "        \"algo-1\"\n",
      "    ],\n",
      "    \"current_instance_type\": \"ml.m5.4xlarge\",\n",
      "    \"distribution_hosts\": [],\n",
      "    \"distribution_instance_groups\": [],\n",
      "    \"framework_module\": \"sagemaker_pytorch_container.training:main\",\n",
      "    \"hosts\": [\n",
      "        \"algo-1\"\n",
      "    ],\n",
      "    \"hyperparameters\": {},\n",
      "    \"input_config_dir\": \"/opt/ml/input/config\",\n",
      "    \"input_data_config\": {\n",
      "        \"test\": {\n",
      "            \"TrainingInputMode\": \"File\",\n",
      "            \"S3DistributionType\": \"FullyReplicated\",\n",
      "            \"RecordWrapperType\": \"None\"\n",
      "        },\n",
      "        \"train\": {\n",
      "            \"TrainingInputMode\": \"File\",\n",
      "            \"S3DistributionType\": \"FullyReplicated\",\n",
      "            \"RecordWrapperType\": \"None\"\n",
      "        }\n",
      "    },\n",
      "    \"input_dir\": \"/opt/ml/input\",\n",
      "    \"instance_groups\": [\n",
      "        \"homogeneousCluster\"\n",
      "    ],\n",
      "    \"instance_groups_dict\": {\n",
      "        \"homogeneousCluster\": {\n",
      "            \"instance_group_name\": \"homogeneousCluster\",\n",
      "            \"instance_type\": \"ml.m5.4xlarge\",\n",
      "            \"hosts\": [\n",
      "                \"algo-1\"\n",
      "            ]\n",
      "        }\n",
      "    },\n",
      "    \"is_hetero\": false,\n",
      "    \"is_master\": true,\n",
      "    \"is_modelparallel_enabled\": null,\n",
      "    \"is_smddpmprun_installed\": false,\n",
      "    \"job_name\": \"full-model-mini-jason-2025-02-28-17-54-16-009\",\n",
      "    \"log_level\": 20,\n",
      "    \"master_hostname\": \"algo-1\",\n",
      "    \"model_dir\": \"/opt/ml/model\",\n",
      "    \"module_dir\": \"s3://sagemaker-us-east-1-533267122991/full-model-mini-jason-2025-02-28-17-54-16-009/source/sourcedir.tar.gz\",\n",
      "    \"module_name\": \"model\",\n",
      "    \"network_interface_name\": \"eth0\",\n",
      "    \"num_cpus\": 16,\n",
      "    \"num_gpus\": 0,\n",
      "    \"num_neurons\": 0,\n",
      "    \"output_data_dir\": \"/opt/ml/output/data\",\n",
      "    \"output_dir\": \"/opt/ml/output\",\n",
      "    \"output_intermediate_dir\": \"/opt/ml/output/intermediate\",\n",
      "    \"resource_config\": {\n",
      "        \"current_host\": \"algo-1\",\n",
      "        \"current_instance_type\": \"ml.m5.4xlarge\",\n",
      "        \"current_group_name\": \"homogeneousCluster\",\n",
      "        \"hosts\": [\n",
      "            \"algo-1\"\n",
      "        ],\n",
      "        \"instance_groups\": [\n",
      "            {\n",
      "                \"instance_group_name\": \"homogeneousCluster\",\n",
      "                \"instance_type\": \"ml.m5.4xlarge\",\n",
      "                \"hosts\": [\n",
      "                    \"algo-1\"\n",
      "                ]\n",
      "            }\n",
      "        ],\n",
      "        \"network_interface_name\": \"eth0\"\n",
      "    },\n",
      "    \"user_entry_point\": \"model.py\"\u001b[0m\n",
      "\u001b[34m}\u001b[0m\n",
      "\u001b[34mEnvironment variables:\u001b[0m\n",
      "\u001b[34mSM_HOSTS=[\"algo-1\"]\u001b[0m\n",
      "\u001b[34mSM_NETWORK_INTERFACE_NAME=eth0\u001b[0m\n",
      "\u001b[34mSM_HPS={}\u001b[0m\n",
      "\u001b[34mSM_USER_ENTRY_POINT=model.py\u001b[0m\n",
      "\u001b[34mSM_FRAMEWORK_PARAMS={}\u001b[0m\n",
      "\u001b[34mSM_RESOURCE_CONFIG={\"current_group_name\":\"homogeneousCluster\",\"current_host\":\"algo-1\",\"current_instance_type\":\"ml.m5.4xlarge\",\"hosts\":[\"algo-1\"],\"instance_groups\":[{\"hosts\":[\"algo-1\"],\"instance_group_name\":\"homogeneousCluster\",\"instance_type\":\"ml.m5.4xlarge\"}],\"network_interface_name\":\"eth0\"}\u001b[0m\n",
      "\u001b[34mSM_INPUT_DATA_CONFIG={\"test\":{\"RecordWrapperType\":\"None\",\"S3DistributionType\":\"FullyReplicated\",\"TrainingInputMode\":\"File\"},\"train\":{\"RecordWrapperType\":\"None\",\"S3DistributionType\":\"FullyReplicated\",\"TrainingInputMode\":\"File\"}}\u001b[0m\n",
      "\u001b[34mSM_OUTPUT_DATA_DIR=/opt/ml/output/data\u001b[0m\n",
      "\u001b[34mSM_CHANNELS=[\"test\",\"train\"]\u001b[0m\n",
      "\u001b[34mSM_CURRENT_HOST=algo-1\u001b[0m\n",
      "\u001b[34mSM_CURRENT_INSTANCE_TYPE=ml.m5.4xlarge\u001b[0m\n",
      "\u001b[34mSM_CURRENT_INSTANCE_GROUP=homogeneousCluster\u001b[0m\n",
      "\u001b[34mSM_CURRENT_INSTANCE_GROUP_HOSTS=[\"algo-1\"]\u001b[0m\n",
      "\u001b[34mSM_INSTANCE_GROUPS=[\"homogeneousCluster\"]\u001b[0m\n",
      "\u001b[34mSM_INSTANCE_GROUPS_DICT={\"homogeneousCluster\":{\"hosts\":[\"algo-1\"],\"instance_group_name\":\"homogeneousCluster\",\"instance_type\":\"ml.m5.4xlarge\"}}\u001b[0m\n",
      "\u001b[34mSM_DISTRIBUTION_INSTANCE_GROUPS=[]\u001b[0m\n",
      "\u001b[34mSM_IS_HETERO=false\u001b[0m\n",
      "\u001b[34mSM_MODULE_NAME=model\u001b[0m\n",
      "\u001b[34mSM_LOG_LEVEL=20\u001b[0m\n",
      "\u001b[34mSM_FRAMEWORK_MODULE=sagemaker_pytorch_container.training:main\u001b[0m\n",
      "\u001b[34mSM_INPUT_DIR=/opt/ml/input\u001b[0m\n",
      "\u001b[34mSM_INPUT_CONFIG_DIR=/opt/ml/input/config\u001b[0m\n",
      "\u001b[34mSM_OUTPUT_DIR=/opt/ml/output\u001b[0m\n",
      "\u001b[34mSM_NUM_CPUS=16\u001b[0m\n",
      "\u001b[34mSM_NUM_GPUS=0\u001b[0m\n",
      "\u001b[34mSM_NUM_NEURONS=0\u001b[0m\n",
      "\u001b[34mSM_MODEL_DIR=/opt/ml/model\u001b[0m\n",
      "\u001b[34mSM_MODULE_DIR=s3://sagemaker-us-east-1-533267122991/full-model-mini-jason-2025-02-28-17-54-16-009/source/sourcedir.tar.gz\u001b[0m\n",
      "\u001b[34mSM_TRAINING_ENV={\"additional_framework_parameters\":{},\"channel_input_dirs\":{\"test\":\"/opt/ml/input/data/test\",\"train\":\"/opt/ml/input/data/train\"},\"current_host\":\"algo-1\",\"current_instance_group\":\"homogeneousCluster\",\"current_instance_group_hosts\":[\"algo-1\"],\"current_instance_type\":\"ml.m5.4xlarge\",\"distribution_hosts\":[],\"distribution_instance_groups\":[],\"framework_module\":\"sagemaker_pytorch_container.training:main\",\"hosts\":[\"algo-1\"],\"hyperparameters\":{},\"input_config_dir\":\"/opt/ml/input/config\",\"input_data_config\":{\"test\":{\"RecordWrapperType\":\"None\",\"S3DistributionType\":\"FullyReplicated\",\"TrainingInputMode\":\"File\"},\"train\":{\"RecordWrapperType\":\"None\",\"S3DistributionType\":\"FullyReplicated\",\"TrainingInputMode\":\"File\"}},\"input_dir\":\"/opt/ml/input\",\"instance_groups\":[\"homogeneousCluster\"],\"instance_groups_dict\":{\"homogeneousCluster\":{\"hosts\":[\"algo-1\"],\"instance_group_name\":\"homogeneousCluster\",\"instance_type\":\"ml.m5.4xlarge\"}},\"is_hetero\":false,\"is_master\":true,\"is_modelparallel_enabled\":null,\"is_smddpmprun_installed\":false,\"job_name\":\"full-model-mini-jason-2025-02-28-17-54-16-009\",\"log_level\":20,\"master_hostname\":\"algo-1\",\"model_dir\":\"/opt/ml/model\",\"module_dir\":\"s3://sagemaker-us-east-1-533267122991/full-model-mini-jason-2025-02-28-17-54-16-009/source/sourcedir.tar.gz\",\"module_name\":\"model\",\"network_interface_name\":\"eth0\",\"num_cpus\":16,\"num_gpus\":0,\"num_neurons\":0,\"output_data_dir\":\"/opt/ml/output/data\",\"output_dir\":\"/opt/ml/output\",\"output_intermediate_dir\":\"/opt/ml/output/intermediate\",\"resource_config\":{\"current_group_name\":\"homogeneousCluster\",\"current_host\":\"algo-1\",\"current_instance_type\":\"ml.m5.4xlarge\",\"hosts\":[\"algo-1\"],\"instance_groups\":[{\"hosts\":[\"algo-1\"],\"instance_group_name\":\"homogeneousCluster\",\"instance_type\":\"ml.m5.4xlarge\"}],\"network_interface_name\":\"eth0\"},\"user_entry_point\":\"model.py\"}\u001b[0m\n",
      "\u001b[34mSM_USER_ARGS=[]\u001b[0m\n",
      "\u001b[34mSM_OUTPUT_INTERMEDIATE_DIR=/opt/ml/output/intermediate\u001b[0m\n",
      "\u001b[34mSM_CHANNEL_TEST=/opt/ml/input/data/test\u001b[0m\n",
      "\u001b[34mSM_CHANNEL_TRAIN=/opt/ml/input/data/train\u001b[0m\n",
      "\u001b[34mPYTHONPATH=/opt/ml/code:/opt/conda/bin:/opt/conda/lib/python38.zip:/opt/conda/lib/python3.8:/opt/conda/lib/python3.8/lib-dynload:/opt/conda/lib/python3.8/site-packages:/opt/conda/lib/python3.8/site-packages/smdebug-1.0.26b20230214-py3.8.egg:/opt/conda/lib/python3.8/site-packages/pyinstrument-3.4.2-py3.8.egg:/opt/conda/lib/python3.8/site-packages/pyinstrument_cext-0.2.4-py3.8-linux-x86_64.egg\u001b[0m\n",
      "\u001b[34mInvoking script with the following command:\u001b[0m\n",
      "\u001b[34m/opt/conda/bin/python3.8 model.py\u001b[0m\n",
      "\u001b[34m2025-02-28 12:56:48,693 sagemaker-training-toolkit INFO     Exceptions not imported for SageMaker TF as Tensorflow is not installed.\u001b[0m\n",
      "\u001b[34mGet train data loader\u001b[0m\n",
      "\u001b[34mGet test data loader\u001b[0m\n",
      "\u001b[34mProcesses 82809/82809 (100%) of train data\u001b[0m\n",
      "\u001b[34mProcesses 20548/20548 (100%) of test data\u001b[0m\n",
      "\u001b[34mDimensions: {'states': 8, 'actions': 3, 'users': 400, 'games': 3}\u001b[0m\n",
      "\u001b[34mCreated model\u001b[0m\n",
      "\u001b[34mBeginning training\u001b[0m\n",
      "\u001b[34m[2025-02-28 12:56:50.451 algo-1:55 INFO utils.py:28] RULE_JOB_STOP_SIGNAL_FILENAME: None\u001b[0m\n",
      "\u001b[34m/opt/conda/lib/python3.8/site-packages/smdebug-1.0.26b20230214-py3.8.egg/smdebug/profiler/system_metrics_reader.py:78: SyntaxWarning: \"is not\" with a literal. Did you mean \"!=\"?\u001b[0m\n",
      "\u001b[34m/opt/conda/lib/python3.8/site-packages/smdebug-1.0.26b20230214-py3.8.egg/smdebug/profiler/system_metrics_reader.py:78: SyntaxWarning: \"is not\" with a literal. Did you mean \"!=\"?\u001b[0m\n",
      "\u001b[34m[2025-02-28 12:56:51.155 algo-1:55 INFO profiler_config_parser.py:111] User has disabled profiler.\u001b[0m\n",
      "\u001b[34m[2025-02-28 12:56:51.156 algo-1:55 INFO json_config.py:92] Creating hook from json_config at /opt/ml/input/config/debughookconfig.json.\u001b[0m\n",
      "\u001b[34m[2025-02-28 12:56:51.157 algo-1:55 INFO hook.py:206] tensorboard_dir has not been set for the hook. SMDebug will not be exporting tensorboard summaries.\u001b[0m\n",
      "\u001b[34m[2025-02-28 12:56:51.157 algo-1:55 INFO hook.py:259] Saving to /opt/ml/output/tensors\u001b[0m\n",
      "\u001b[34m[2025-02-28 12:56:51.157 algo-1:55 INFO state_store.py:77] The checkpoint config file /opt/ml/input/config/checkpointconfig.json does not exist.\u001b[0m\n",
      "\u001b[34mEpoch 10, Loss: 1.0664\u001b[0m\n",
      "\u001b[34mBeginning evaluation\u001b[0m\n",
      "\u001b[34mINFO:__main__:Epoch 10, Loss: 1.0664\u001b[0m\n",
      "\u001b[34mINFO:__main__:Beginning evaluation\u001b[0m\n",
      "\u001b[34mTest set: Average loss: 2.5396, Average q-value: 0.9412\u001b[0m\n",
      "\u001b[34mSaving the model and metrics\u001b[0m\n",
      "\u001b[34mINFO:__main__:Test set: Average loss: 2.5396, Average q-value: 0.9412\u001b[0m\n",
      "\u001b[34mINFO:__main__:Saving the model and metrics\u001b[0m\n",
      "\u001b[34mModel and metrics saved\u001b[0m\n",
      "\u001b[34mINFO:__main__:Model and metrics saved\u001b[0m\n",
      "\u001b[34m2025-02-28 12:57:56,675 sagemaker-training-toolkit INFO     Waiting for the process to finish and give a return code.\u001b[0m\n",
      "\u001b[34m2025-02-28 12:57:56,675 sagemaker-training-toolkit INFO     Done waiting for a return code. Received 0 from exiting process.\u001b[0m\n",
      "\u001b[34m2025-02-28 12:57:56,676 sagemaker-training-toolkit INFO     Reporting training SUCCESS\u001b[0m\n",
      "\n",
      "2025-02-28 17:58:13 Uploading - Uploading generated training model\n",
      "2025-02-28 17:58:13 Completed - Training job completed\n",
      "Training seconds: 200\n",
      "Billable seconds: 200\n"
     ]
    }
   ],
   "source": [
    "# inputs correspond to SM_CHANNEL_<var_name>\n",
    "estimator.fit(\n",
    "    inputs={\n",
    "        'train': train_dir,  # SM_CHANNEL_TRAIN\n",
    "        'test': test_dir  # SM_CHANNEL_TEST\n",
    "    })"
   ]
  },
  {
   "cell_type": "markdown",
   "id": "d9808648-0ebf-4ec1-ae02-8460f97c129c",
   "metadata": {},
   "source": [
    "## Hyperparameter Tuning (Single Run)"
   ]
  },
  {
   "cell_type": "code",
   "execution_count": 38,
   "id": "8c0eb137-ae64-4aed-a78d-33f42f9f261e",
   "metadata": {},
   "outputs": [],
   "source": [
    "estimator = PyTorch(\n",
    "    base_job_name='full-model-mini-lr-01-gamme-8',\n",
    "    entry_point=\"model.py\",\n",
    "    role=role,\n",
    "    py_version='py38',\n",
    "    framework_version='1.11.0',\n",
    "    instance_count=1,\n",
    "    instance_type='ml.m5.4xlarge',\n",
    "    hyperparameters={'lr': 0.01, 'gamma': 0.8, 'epochs': 20}, # additional argparse variables\n",
    "    metric_definitions=[  # regex on logged out sent to Cloudwatch\n",
    "        {'Name': 'train:error', 'Regex': r'Train Loss: ([0-9]+\\.[0-9]+)'},\n",
    "        {'Name': 'test:error', 'Regex': r'Test Loss: ([0-9]+\\.[0-9]+)'}\n",
    "    ]\n",
    ")"
   ]
  },
  {
   "cell_type": "code",
   "execution_count": null,
   "id": "9cbc3aa1-7a98-407f-930a-c23788b2c5ad",
   "metadata": {
    "scrolled": true
   },
   "outputs": [
    {
     "name": "stderr",
     "output_type": "stream",
     "text": [
      "INFO:sagemaker.image_uris:image_uri is not presented, retrieving image_uri based on instance_type, framework etc.\n",
      "INFO:sagemaker:Creating training-job with name: full-model-mini-lr-01-gamme-8-2025-02-27-23-36-05-402\n"
     ]
    },
    {
     "name": "stdout",
     "output_type": "stream",
     "text": [
      "2025-02-27 23:36:07 Starting - Starting the training job...\n",
      "2025-02-27 23:36:21 Starting - Preparing the instances for training...\n",
      "2025-02-27 23:37:03 Downloading - Downloading the training image.........\n",
      "2025-02-27 23:38:29 Training - Training image download completed. Training in progress..."
     ]
    }
   ],
   "source": [
    "estimator.fit(\n",
    "    inputs={\n",
    "        'train': train_dir,  # SM_CHANNEL_TRAIN\n",
    "        'test': test_dir  # SM_CHANNEL_TEST\n",
    "    })"
   ]
  },
  {
   "cell_type": "markdown",
   "id": "ff1f5c4f-0860-446b-baac-ab0875227564",
   "metadata": {},
   "source": [
    "## Hyperparameter Tuning (Multiple Run)\n",
    "- not tested yet*\n",
    "- according to this, we may not need to specify any hyperparameter_ranges at all: [article](https://aws.amazon.com/blogs/machine-learning/amazon-sagemaker-automatic-model-tuning-now-automatically-chooses-tuning-configurations-to-improve-usability-and-cost-efficiency/)\n",
    "- reference: [tuner example](https://github.com/aws/amazon-sagemaker-examples/blob/default/%20%20%20%20%20%20build_and_train_models/sm-hyperparameter_tuning_pytorch/sm-hyperparameter_tuning_pytorch.ipynb)"
   ]
  },
  {
   "cell_type": "code",
   "execution_count": null,
   "id": "7e99537e-ebde-44a8-b84b-faf25111e7f3",
   "metadata": {},
   "outputs": [],
   "source": [
    "estimator = PyTorch(\n",
    "    base_job_name='full-model-mini-lr-01-gamme-8-jason',\n",
    "    entry_point=\"model.py\",\n",
    "    role=role,\n",
    "    py_version='py38',\n",
    "    framework_version='1.11.0',\n",
    "    instance_count=1,\n",
    "    instance_type='ml.m5.4xlarge',\n",
    "    hyperparameters={'lr': 0.01, 'gamma': \"0.8\"}, # any hyperparameters we want to keep static\n",
    ")"
   ]
  },
  {
   "cell_type": "code",
   "execution_count": null,
   "id": "fd3c0b07-4f08-4db8-bc26-8b3bccde688a",
   "metadata": {},
   "outputs": [],
   "source": [
    "hyperparameter_ranges = {\n",
    "    'lr': ContinuousParameter(0.001, 0.1),\n",
    "    'gamma': CategoricalParameter([0.8, 0.9, 0.99])\n",
    "}"
   ]
  },
  {
   "cell_type": "code",
   "execution_count": null,
   "id": "b66168d0-47dc-4682-9cb1-04cf897e6df1",
   "metadata": {},
   "outputs": [],
   "source": [
    "objective_metric_name = \"average test loss\"\n",
    "objective_type = \"Minimize\"\n",
    "metric_definitions = [{\"Name\": \"average test loss\", \"Regex\": \"Test set: Average loss: ([0-9\\\\.]+)\"}]"
   ]
  },
  {
   "cell_type": "code",
   "execution_count": null,
   "id": "c569626a-731a-43da-912d-0c0a403180fb",
   "metadata": {},
   "outputs": [],
   "source": [
    "tuner = HyperparameterTuner(\n",
    "    estimator,\n",
    "    objective_metric_name,\n",
    "    hyperparameter_ranges,\n",
    "    metric_definitions,\n",
    "    max_jobs=9,\n",
    "    max_parallel_jobs=3,\n",
    "    objective_type=objective_type,\n",
    ")"
   ]
  },
  {
   "cell_type": "code",
   "execution_count": null,
   "id": "e0c240b5-bdd7-45ef-b2f4-06c8aed63b20",
   "metadata": {},
   "outputs": [],
   "source": [
    "tuner.fit({\n",
    "    'train': train_dir,  # SM_CHANNEL_TRAIN\n",
    "    'test': test_dir  # SM_CHANNEL_TEST\n",
    "})"
   ]
  }
 ],
 "metadata": {
  "kernelspec": {
   "display_name": "Python 3 (ipykernel)",
   "language": "python",
   "name": "python3"
  },
  "language_info": {
   "codemirror_mode": {
    "name": "ipython",
    "version": 3
   },
   "file_extension": ".py",
   "mimetype": "text/x-python",
   "name": "python",
   "nbconvert_exporter": "python",
   "pygments_lexer": "ipython3",
   "version": "3.11.11"
  }
 },
 "nbformat": 4,
 "nbformat_minor": 5
}
